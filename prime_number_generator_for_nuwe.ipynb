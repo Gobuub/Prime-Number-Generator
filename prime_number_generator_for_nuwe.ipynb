{
 "cells": [
  {
   "cell_type": "code",
   "execution_count": 3,
   "id": "4355bd62",
   "metadata": {},
   "outputs": [],
   "source": [
    "import numpy as np"
   ]
  },
  {
   "cell_type": "code",
   "execution_count": 23,
   "id": "5e87cd25",
   "metadata": {},
   "outputs": [],
   "source": [
    "def is_prime(n):\n",
    "    x = 2\n",
    "    if n <= 1:\n",
    "        return 1\n",
    "    else:\n",
    "        while (x * x) <= n:\n",
    "            #print(x)\n",
    "            #print(n%x)\n",
    "            if n%x==0:\n",
    "                return 0\n",
    "            x = x + 1\n",
    "        return 1"
   ]
  },
  {
   "cell_type": "code",
   "execution_count": 24,
   "id": "fb802d83",
   "metadata": {},
   "outputs": [],
   "source": [
    "def cal_divisores(numb):\n",
    "    \n",
    "    divisores = []\n",
    "    #numb = 100000000\n",
    "    for d in range(1, numb+1):\n",
    "        #print(d)\n",
    "        if numb%d==0:\n",
    "            algorithm = d+numb/d\n",
    "            prime = is_prime(algorithm)\n",
    "            if prime == 0:\n",
    "                #print(f'Al aplicar el algoritmo a {d} de {numb}, el resultado es {algorithm} y no es primo')\n",
    "                return 0 \n",
    "            \n",
    "        else:\n",
    "            continue\n",
    "    return numb"
   ]
  },
  {
   "cell_type": "code",
   "execution_count": 25,
   "id": "9d09fd67",
   "metadata": {},
   "outputs": [],
   "source": [
    "def prime_num_generation(n):\n",
    "    total_sum = 0\n",
    "    for val in range(n+1):\n",
    "        #print(val)\n",
    "        total_sum += cal_divisores(val)\n",
    "    return total_sum "
   ]
  },
  {
   "cell_type": "code",
   "execution_count": 26,
   "id": "b9af8a57",
   "metadata": {},
   "outputs": [
    {
     "name": "stdout",
     "output_type": "stream",
     "text": [
      "CPU times: user 273 µs, sys: 36 µs, total: 309 µs\n",
      "Wall time: 313 µs\n"
     ]
    },
    {
     "data": {
      "text/plain": [
       "401"
      ]
     },
     "execution_count": 26,
     "metadata": {},
     "output_type": "execute_result"
    }
   ],
   "source": [
    "%%time\n",
    "prime_num_generation(100)"
   ]
  },
  {
   "cell_type": "code",
   "execution_count": null,
   "id": "83e08634",
   "metadata": {},
   "outputs": [],
   "source": []
  }
 ],
 "metadata": {
  "kernelspec": {
   "display_name": "Python 3 (ipykernel)",
   "language": "python",
   "name": "python3"
  },
  "language_info": {
   "codemirror_mode": {
    "name": "ipython",
    "version": 3
   },
   "file_extension": ".py",
   "mimetype": "text/x-python",
   "name": "python",
   "nbconvert_exporter": "python",
   "pygments_lexer": "ipython3",
   "version": "3.8.11"
  }
 },
 "nbformat": 4,
 "nbformat_minor": 5
}
