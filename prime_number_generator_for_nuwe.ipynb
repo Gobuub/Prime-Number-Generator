{
 "cells": [
  {
   "cell_type": "markdown",
   "id": "4a306068",
   "metadata": {},
   "source": [
    "## Descripción del proyecto\n",
    "\n",
    "Considera los divisores de 30: 1, 2, 3, 5, 6, 10, 15, 30. Puede verse que para cada divisor d de 30, d + 30 / d es primo.\n",
    "\n",
    "Encuentre la suma de todos los números enteros positivos n que no excedan 100.000.000 tal que para cada divisor d de n, d + n / d es primo."
   ]
  },
  {
   "cell_type": "markdown",
   "id": "ca09f97e",
   "metadata": {},
   "source": [
    "### En primer lugar vamos a realizar una función auxiliar que nos evalue si el número es primo o no"
   ]
  },
  {
   "cell_type": "code",
   "execution_count": 1,
   "id": "5e87cd25",
   "metadata": {},
   "outputs": [],
   "source": [
    "def is_prime(n):\n",
    "    '''\n",
    "    Description.\n",
    "    ------------\n",
    "    \n",
    "        This function receives an interger and returns 1 or 0.\n",
    "        \n",
    "    Parameters.\n",
    "    -----------\n",
    "    \n",
    "        n = Integer\n",
    "        \n",
    "    Results.\n",
    "    --------\n",
    "    \n",
    "        1 if n is prime\n",
    "        o if n not is prime\n",
    "    \n",
    "    '''\n",
    "    x = 2\n",
    "    if n <= 1:\n",
    "        return 1\n",
    "    else:\n",
    "        while (x * x) <= n:\n",
    "            #print(x)\n",
    "            #print(n%x)\n",
    "            if n%x==0:\n",
    "                return 0\n",
    "            x = x + 1\n",
    "        return 1"
   ]
  },
  {
   "cell_type": "markdown",
   "id": "f915d067",
   "metadata": {},
   "source": [
    "### Ahora desarrollaremos una segunda función auxiliar que utilizaremos para hallar los divisores enteros de un número, a los que aplicaremos la fórmula dada en el enunciado, de esta forma podremos delimitar los números reales enteros que cumplen dicha condición."
   ]
  },
  {
   "cell_type": "code",
   "execution_count": 2,
   "id": "fb802d83",
   "metadata": {},
   "outputs": [],
   "source": [
    "def cal_divisores(numb):\n",
    "    '''\n",
    "    Description.\n",
    "    ------------\n",
    "        This function receives an integer and calculate it's divisors and apply an\n",
    "        algorithm to they.\n",
    "        Algorithm are d (divisor) + numb / d.\n",
    "    \n",
    "    Params.\n",
    "    -------\n",
    "    \n",
    "        numb = Integer\n",
    "        \n",
    "    Results.\n",
    "    --------\n",
    "        0 if one or more divisors of numb not are prime after apply the algorithm.\n",
    "        numb if all of the divisors after aplly the algorithm are prime.\n",
    "    \n",
    "    \n",
    "    '''\n",
    "    \n",
    "    for d in range(1, numb+1):\n",
    "        #print(d)\n",
    "        if numb%d==0:\n",
    "            algorithm = d+numb/d\n",
    "            prime = is_prime(algorithm)\n",
    "            if prime == 0:\n",
    "                #print(f'Al aplicar el algoritmo a {d} de {numb}, el resultado es {algorithm} y no es primo')\n",
    "                return 0 \n",
    "            \n",
    "        else:\n",
    "            continue\n",
    "    return numb"
   ]
  },
  {
   "cell_type": "markdown",
   "id": "0c93b3a4",
   "metadata": {},
   "source": [
    "### Para finalizar usaremos una función que recorra todos los números en un rango de 0 hasta n, nos aplique el algoritmo dado en el enunciado y nos devuelva la suma total de todos los números que cumplen las condiciones dadas."
   ]
  },
  {
   "cell_type": "code",
   "execution_count": 3,
   "id": "9d09fd67",
   "metadata": {},
   "outputs": [],
   "source": [
    "def prime_num_generation(n):\n",
    "    '''\n",
    "    Description.\n",
    "    ------------\n",
    "    \n",
    "        This funtion looks for the sum of all numbers thats meet d + n/d are prime, where d are all the real\n",
    "        divisor of n.\n",
    "        \n",
    "    Params.\n",
    "    -------\n",
    "    \n",
    "        n = Integer <= 100000000\n",
    "        \n",
    "    \n",
    "    Results.\n",
    "    --------\n",
    "    \n",
    "        The funtion returns the sum of all numbers in range 0 to n that meet the algorithm.\n",
    "        \n",
    "        If n is > 100000000 the funtion ask to the user for a right number until it give a right number.\n",
    "        \n",
    "    '''\n",
    "    if n <= 100000000:\n",
    "        total_sum = 0\n",
    "        for val in range(n+1):\n",
    "            #print(val)\n",
    "            total_sum += cal_divisores(val)\n",
    "        return total_sum \n",
    "    else:\n",
    "        print('El número introducido es demasiado alto')\n",
    "        n = int(input('Introduce un numero menor o igual a 100000000: '))\n",
    "        return prime_num_generation(n)\n",
    "        "
   ]
  },
  {
   "cell_type": "code",
   "execution_count": null,
   "id": "8073aaee",
   "metadata": {},
   "outputs": [],
   "source": [
    "def prime_number_generator_v2(n):\n",
    "     '''\n",
    "    Description.\n",
    "    ------------\n",
    "    \n",
    "        This funtion looks for the sum of all numbers thats meet d + n/d are prime, where d are all the real\n",
    "        divisor of n.\n",
    "        \n",
    "    Params.\n",
    "    -------\n",
    "    \n",
    "        n = Integer <= 100000000\n",
    "        \n",
    "    \n",
    "    Results.\n",
    "    --------\n",
    "    \n",
    "        The funtion returns the sum of all numbers in range 0 to n that meet the algorithm.\n",
    "        \n",
    "        If n is > 100000000 the funtion ask to the user for a right number until it give a right number.\n",
    "        \n",
    "        In this implementation use map() in front of for loop, looking for better velocal_divisoresn execution.\n",
    "        \n",
    "    '''\n",
    "        \n",
    "    if n <= 100000000:\n",
    "        x= list(range(n+1))\n",
    "        lst = map(cal_divisores, x)\n",
    "        print(sum(lst))\n",
    "         \n",
    "    else:\n",
    "        print('El número introducido es demasiado alto')\n",
    "        n = int(input('Introduce un numero menor o igual a 100000000: '))\n",
    "        return prime_num_generation(n)"
   ]
  },
  {
   "cell_type": "code",
   "execution_count": 4,
   "id": "b9af8a57",
   "metadata": {},
   "outputs": [
    {
     "name": "stdout",
     "output_type": "stream",
     "text": [
      "CPU times: user 817 ms, sys: 883 ms, total: 1.7 s\n",
      "Wall time: 1.66 s\n"
     ]
    },
    {
     "data": {
      "text/plain": [
       "100000001"
      ]
     },
     "execution_count": 4,
     "metadata": {},
     "output_type": "execute_result"
    }
   ],
   "source": [
    "%%time\n",
    "n = 100000000\n",
    "x = list(range(n+1))\n",
    "len(x)"
   ]
  },
  {
   "cell_type": "code",
   "execution_count": 5,
   "id": "83e08634",
   "metadata": {},
   "outputs": [
    {
     "name": "stdout",
     "output_type": "stream",
     "text": [
      "CPU times: user 2 µs, sys: 1 µs, total: 3 µs\n",
      "Wall time: 4.77 µs\n"
     ]
    }
   ],
   "source": [
    "%time\n",
    "lst = map(cal_divisores, x)"
   ]
  },
  {
   "cell_type": "code",
   "execution_count": 6,
   "id": "f8b138e8",
   "metadata": {},
   "outputs": [
    {
     "name": "stdout",
     "output_type": "stream",
     "text": [
      "CPU times: user 2 µs, sys: 0 ns, total: 2 µs\n",
      "Wall time: 4.53 µs\n",
      "1739023853137\n"
     ]
    }
   ],
   "source": [
    "%time\n",
    "print(sum(lst))"
   ]
  },
  {
   "cell_type": "code",
   "execution_count": null,
   "id": "aa31c485",
   "metadata": {},
   "outputs": [],
   "source": []
  }
 ],
 "metadata": {
  "kernelspec": {
   "display_name": "Python 3 (ipykernel)",
   "language": "python",
   "name": "python3"
  },
  "language_info": {
   "codemirror_mode": {
    "name": "ipython",
    "version": 3
   },
   "file_extension": ".py",
   "mimetype": "text/x-python",
   "name": "python",
   "nbconvert_exporter": "python",
   "pygments_lexer": "ipython3",
   "version": "3.8.11"
  }
 },
 "nbformat": 4,
 "nbformat_minor": 5
}
